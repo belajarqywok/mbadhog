{
  "nbformat": 4,
  "nbformat_minor": 0,
  "metadata": {
    "colab": {
      "provenance": [],
      "gpuType": "T4"
    },
    "kernelspec": {
      "name": "python3",
      "display_name": "Python 3"
    },
    "accelerator": "GPU",
    "language_info": {
      "name": "python"
    }
  },
  "cells": [
    {
      "cell_type": "code",
      "execution_count": null,
      "metadata": {
        "id": "2_8b33tyMZJW",
        "colab": {
          "base_uri": "https://localhost:8080/"
        },
        "outputId": "d38cd17e-a56f-4a1c-b43b-c2c40aac8988"
      },
      "outputs": [
        {
          "output_type": "execute_result",
          "data": {
            "text/plain": []
          },
          "metadata": {},
          "execution_count": 2
        }
      ],
      "source": [
        "%%shell\n",
        "set -e\n",
        "\n",
        "JULIA_VERSION=\"1.10.3\"\n",
        "JULIA_PACKAGES=\"IJulia BenchmarkTools\"\n",
        "JULIA_PACKAGES_IF_GPU=\"CUDA\"\n",
        "JULIA_NUM_THREADS=2\n",
        "\n",
        "if [ -z `which julia` ]; then\n",
        "  JULIA_VER=`cut -d '.' -f -2 <<< \"$JULIA_VERSION\"`\n",
        "  echo \"Installing Julia $JULIA_VERSION on the current Colab Runtime...\"\n",
        "  BASE_URL=\"https://julialang-s3.julialang.org/bin/linux/x64\"\n",
        "  URL=\"$BASE_URL/$JULIA_VER/julia-$JULIA_VERSION-linux-x86_64.tar.gz\"\n",
        "  wget -nv $URL -O /tmp/julia.tar.gz\n",
        "  tar -x -f /tmp/julia.tar.gz -C /usr/local --strip-components 1\n",
        "  rm /tmp/julia.tar.gz\n",
        "\n",
        "  nvidia-smi -L &> /dev/null && export GPU=1 || export GPU=0\n",
        "  if [ $GPU -eq 1 ]; then\n",
        "    JULIA_PACKAGES=\"$JULIA_PACKAGES $JULIA_PACKAGES_IF_GPU\"\n",
        "  fi\n",
        "  for PKG in `echo $JULIA_PACKAGES`; do\n",
        "    echo \"Installing Julia package $PKG...\"\n",
        "    julia -e 'using Pkg; pkg\"add '$PKG'; precompile;\"' &> /dev/null\n",
        "  done\n",
        "\n",
        "  echo \"Installing IJulia kernel...\"\n",
        "  julia -e 'using IJulia; IJulia.installkernel(\"julia\", env=Dict(\n",
        "      \"JULIA_NUM_THREADS\"=>\"'\"$JULIA_NUM_THREADS\"'\"))'\n",
        "  KERNEL_DIR=`julia -e \"using IJulia; print(IJulia.kerneldir())\"`\n",
        "  KERNEL_NAME=`ls -d \"$KERNEL_DIR\"/julia*`\n",
        "  mv -f $KERNEL_NAME \"$KERNEL_DIR\"/julia\n",
        "fi"
      ]
    },
    {
      "cell_type": "code",
      "source": [
        "using Pkg\n",
        "Pkg.add(\"UpdateJulia\")"
      ],
      "metadata": {
        "colab": {
          "base_uri": "https://localhost:8080/"
        },
        "id": "Sqy_VOe0VLjE",
        "outputId": "1d694bf2-8471-44a9-ffeb-f62a65f6cb2e"
      },
      "execution_count": null,
      "outputs": [
        {
          "output_type": "stream",
          "name": "stderr",
          "text": [
            "\u001b[32m\u001b[1m    Updating\u001b[22m\u001b[39m registry at `~/.julia/registries/General.toml`\n",
            "\u001b[32m\u001b[1m   Resolving\u001b[22m\u001b[39m package versions...\n",
            "\u001b[32m\u001b[1m  No Changes\u001b[22m\u001b[39m to `~/.julia/environments/v1.10/Project.toml`\n",
            "\u001b[32m\u001b[1m  No Changes\u001b[22m\u001b[39m to `~/.julia/environments/v1.10/Manifest.toml`\n"
          ]
        }
      ]
    },
    {
      "cell_type": "code",
      "source": [
        "using UpdateJulia\n",
        "update_julia()"
      ],
      "metadata": {
        "colab": {
          "base_uri": "https://localhost:8080/"
        },
        "id": "G1PPj4xiVdMJ",
        "outputId": "d1ad9f74-ad92-42c0-cd33-adbdf80f0d8a"
      },
      "execution_count": null,
      "outputs": [
        {
          "output_type": "stream",
          "name": "stdout",
          "text": [
            "julia-1.8.2 is currently installed in /usr. Install julia-1.10.3 in /opt instead? Y/n\n",
            "stdin> Y\n",
            "\u001b[32minstalling the latest version of julia: 1.10.3\u001b[39m\n",
            "\u001b[32mSuccess! `julia` & `julia-1.10` & `julia-1.10.3` now to point to 1.10.3\u001b[39m\n"
          ]
        },
        {
          "output_type": "stream",
          "name": "stderr",
          "text": [
            "  Activating project at `~/.julia/environments/v1.10`\n",
            "    Updating registry at `~/.julia/registries/General.toml`\n",
            "    Updating `~/.julia/environments/v1.10/Project.toml`\n",
            "  [6e4b80f9] + BenchmarkTools v1.5.0\n",
            "  [052768ef] + CUDA v5.3.3\n",
            "  [7073ff75] + IJulia v1.24.2\n",
            "  [770da0de] + UpdateJulia v0.4.4\n",
            "    Updating `~/.julia/environments/v1.10/Manifest.toml`\n",
            "  [621f4979] + AbstractFFTs v1.5.0\n",
            "  [79e6a3ab] + Adapt v4.0.4\n",
            "  [a9b6321e] + Atomix v0.1.0\n",
            "  [ab4f0b2a] + BFloat16s v0.5.0\n",
            "  [6e4b80f9] + BenchmarkTools v1.5.0\n",
            "  [fa961155] + CEnum v0.5.0\n",
            "  [052768ef] + CUDA v5.3.3\n",
            "  [1af6417a] + CUDA_Runtime_Discovery v0.2.4\n",
            "  [3da002f7] + ColorTypes v0.11.5\n",
            "  [5ae59095] + Colors v0.12.10\n",
            "  [34da2185] + Compat v4.14.0\n",
            "  [8f4d0f93] + Conda v1.10.0\n",
            "  [a8cc5b0e] + Crayons v4.1.1\n",
            "  [9a962f9c] + DataAPI v1.16.0\n",
            "  [a93c6f00] + DataFrames v1.6.1\n",
            "  [864edb3b] + DataStructures v0.18.20\n",
            "  [e2d170a0] + DataValueInterfaces v1.0.0\n",
            "  [e2ba6199] + ExprTools v0.1.10\n",
            "  [53c48c17] + FixedPointNumbers v0.8.4\n",
            "  [0c68f7d7] + GPUArrays v10.1.0\n",
            "  [46192b85] + GPUArraysCore v0.1.6\n",
            "  [61eb1bfa] + GPUCompiler v0.26.4\n",
            "  [7073ff75] + IJulia v1.24.2\n",
            "  [842dd82b] + InlineStrings v1.4.0\n",
            "  [41ab1584] + InvertedIndices v1.3.0\n",
            "  [82899510] + IteratorInterfaceExtensions v1.0.0\n",
            "  [692b3bcd] + JLLWrappers v1.5.0\n",
            "  [682c06a0] + JSON v0.21.4\n",
            "  [63c18a36] + KernelAbstractions v0.9.18\n",
            "  [929cbde3] + LLVM v6.6.3\n",
            "  [8b046642] + LLVMLoopInfo v1.0.0\n",
            "  [b964fa9f] + LaTeXStrings v1.3.1\n",
            "  [1914dd2f] + MacroTools v0.5.13\n",
            "  [739be429] + MbedTLS v1.1.9\n",
            "  [e1d29d7a] + Missings v1.2.0\n",
            "  [5da4648a] + NVTX v0.3.4\n",
            "  [bac558e1] + OrderedCollections v1.6.3\n",
            "  [69de0a69] + Parsers v2.8.1\n",
            "  [2dfb63ee] + PooledArrays v1.4.3\n",
            "  [aea7be01] + PrecompileTools v1.2.1\n",
            "  [21216c6a] + Preferences v1.4.3\n",
            "  [08abe8d2] + PrettyTables v2.3.1\n",
            "  [74087812] + Random123 v1.7.0\n",
            "  [e6cf234a] + RandomNumbers v1.5.3\n",
            "  [189a3867] + Reexport v1.2.2\n",
            "  [ae029012] + Requires v1.3.0\n",
            "  [6c6a2e73] + Scratch v1.2.1\n",
            "  [91c51154] + SentinelArrays v1.4.1\n",
            "  [b85f4697] + SoftGlobalScope v1.1.0\n",
            "  [a2af1166] + SortingAlgorithms v1.2.1\n",
            "  [90137ffa] + StaticArrays v1.9.3\n",
            "  [1e83bf80] + StaticArraysCore v1.4.2\n",
            "  [892a3eda] + StringManipulation v0.3.4\n",
            "  [fd094767] + Suppressor v0.2.7\n",
            "  [3783bdb8] + TableTraits v1.0.1\n",
            "  [bd369af6] + Tables v1.11.1\n",
            "  [a759f4b9] + TimerOutputs v0.5.23\n",
            "  [013be700] + UnsafeAtomics v0.2.1\n",
            "  [d80eeb9a] + UnsafeAtomicsLLVM v0.1.3\n",
            "  [770da0de] + UpdateJulia v0.4.4\n",
            "  [81def892] + VersionParsing v1.3.0\n",
            "  [c2297ded] + ZMQ v1.2.2\n",
            "  [4ee394cb] + CUDA_Driver_jll v0.8.1+0\n",
            "  [76a88914] + CUDA_Runtime_jll v0.12.1+0\n",
            "  [9c1d0b0a] + JuliaNVTXCallbacks_jll v0.2.1+0\n",
            "  [dad2f222] + LLVMExtra_jll v0.0.29+0\n",
            "  [e98f9f5b] + NVTX_jll v3.1.0+2\n",
            "  [8f1865be] + ZeroMQ_jll v4.3.5+0\n",
            "  [a9144af2] + libsodium_jll v1.0.20+0\n",
            "  [0dad84c5] + ArgTools v1.1.1\n",
            "  [56f22d72] + Artifacts\n",
            "  [2a0f44e3] + Base64\n",
            "  [ade2ca70] + Dates\n",
            "  [f43a241f] + Downloads v1.6.0\n",
            "  [7b1f6079] + FileWatching\n",
            "  [9fa8497b] + Future\n",
            "  [b77e0a4c] + InteractiveUtils\n",
            "  [4af54fe1] + LazyArtifacts\n",
            "  [b27032c2] + LibCURL v0.6.4\n",
            "  [76f85450] + LibGit2\n",
            "  [8f399da3] + Libdl\n",
            "  [37e2e46d] + LinearAlgebra\n",
            "  [56ddb016] + Logging\n",
            "  [d6f4376e] + Markdown\n",
            "  [a63ad114] + Mmap\n",
            "  [ca575930] + NetworkOptions v1.2.0\n",
            "  [44cfe95a] + Pkg v1.10.0\n",
            "  [de0858da] + Printf\n",
            "  [9abbd945] + Profile\n",
            "  [3fa0cd96] + REPL\n",
            "  [9a3f8284] + Random\n",
            "  [ea8e919c] + SHA v0.7.0\n",
            "  [9e88b42a] + Serialization\n",
            "  [6462fe0b] + Sockets\n",
            "  [2f01184e] + SparseArrays v1.10.0\n",
            "  [10745b16] + Statistics v1.10.0\n",
            "  [fa267f1f] + TOML v1.0.3\n",
            "  [a4e569a6] + Tar v1.10.0\n",
            "  [8dfed614] + Test\n",
            "  [cf7118a7] + UUIDs\n",
            "  [4ec0a83e] + Unicode\n",
            "  [e66e0078] + CompilerSupportLibraries_jll v1.1.1+0\n",
            "  [deac9b47] + LibCURL_jll v8.4.0+0\n",
            "  [e37daf67] + LibGit2_jll v1.6.4+0\n",
            "  [29816b5a] + LibSSH2_jll v1.11.0+1\n",
            "  [c8ffd9c3] + MbedTLS_jll v2.28.2+1\n",
            "  [14a3606d] + MozillaCACerts_jll v2023.1.10\n",
            "  [4536629a] + OpenBLAS_jll v0.3.23+4\n",
            "  [bea87d4a] + SuiteSparse_jll v7.2.1+1\n",
            "  [83775a58] + Zlib_jll v1.2.13+1\n",
            "  [8e850b90] + libblastrampoline_jll v5.8.0+1\n",
            "  [8e850ede] + nghttp2_jll v1.52.0+1\n",
            "  [3f19e933] + p7zip_jll v17.4.0+2\n",
            "Precompiling project...\n",
            "  ✓ LLVMLoopInfo\n",
            "  ✓ Suppressor\n",
            "  ✓ MbedTLS\n",
            "  ✓ Compat\n",
            "  ✓ OrderedCollections\n",
            "  ✓ SentinelArrays\n",
            "  ✓ Requires\n",
            "  ✓ DataValueInterfaces\n",
            "  ✓ LaTeXStrings\n",
            "  ✓ AbstractFFTs\n",
            "  ✓ InvertedIndices\n",
            "  ✓ Reexport\n",
            "  ✓ ExprTools\n",
            "  ✓ SoftGlobalScope\n",
            "  ✓ IteratorInterfaceExtensions\n",
            "  ✓ DataAPI\n",
            "  ✓ CompilerSupportLibraries_jll\n",
            "  ✓ UnsafeAtomics\n",
            "  ✓ Crayons\n",
            "  ✓ Scratch\n",
            "  ✓ VersionParsing\n",
            "  ✓ CEnum\n",
            "  ✓ StaticArraysCore\n",
            "  ✓ MacroTools\n",
            "  ✓ Preferences\n",
            "  ✓ BFloat16s\n",
            "  ✓ CUDA_Runtime_Discovery\n",
            "  ✓ Compat → CompatLinearAlgebraExt\n",
            "  ✓ Statistics\n",
            "  ✓ Adapt\n",
            "  ✓ RandomNumbers\n",
            "  ✓ TableTraits\n",
            "  ✓ AbstractFFTs → AbstractFFTsTestExt\n",
            "  ✓ PooledArrays\n",
            "  ✓ Missings\n",
            "  ✓ Atomix\n",
            "  ✓ PrecompileTools\n",
            "  ✓ JLLWrappers\n",
            "  ✓ TimerOutputs\n",
            "  ✓ Random123\n",
            "  ✓ Tables\n",
            "  ✓ FixedPointNumbers\n",
            "  ✓ StringManipulation\n",
            "  ✓ NVTX_jll\n",
            "  ✓ CUDA_Driver_jll\n",
            "  ✓ JuliaNVTXCallbacks_jll\n",
            "  ✓ LLVMExtra_jll\n",
            "  ✓ libsodium_jll\n",
            "  ✓ SortingAlgorithms\n",
            "  ✓ ColorTypes\n",
            "  ✓ StaticArrays\n",
            "  ✓ CUDA_Runtime_jll\n",
            "  ✓ LLVM\n",
            "  ✓ ZeroMQ_jll\n",
            "  ✓ Colors\n",
            "  ✓ StaticArrays → StaticArraysStatisticsExt\n",
            "  ✓ Adapt → AdaptStaticArraysExt\n",
            "  ✓ LLVM → BFloat16sExt\n",
            "  ✓ ZMQ\n",
            "  ✓ NVTX\n",
            "  ✓ GPUArraysCore\n",
            "  ✓ UnsafeAtomicsLLVM\n",
            "  ✓ Parsers\n",
            "  ✓ GPUArrays\n",
            "  ✓ PrettyTables\n",
            "  ✓ JSON\n",
            "  ✓ InlineStrings\n",
            "  ✓ Conda\n",
            "  ✓ UpdateJulia\n",
            "  ✓ KernelAbstractions\n",
            "  ✓ BenchmarkTools\n",
            "  ✓ IJulia\n",
            "  ✓ GPUCompiler\n",
            "  ✓ DataFrames\n",
            "  ✓ CUDA\n",
            "  76 dependencies successfully precompiled in 278 seconds. 6 already precompiled.\n",
            "        Info We haven't cleaned this depot up for a bit, running Pkg.gc()...\n",
            "      Active manifest files: 2 found\n"
          ]
        },
        {
          "output_type": "stream",
          "name": "stdout",
          "text": [
            "\u001b[32mMigrated packages from 1.8 to 1.10\u001b[39m\n"
          ]
        },
        {
          "output_type": "stream",
          "name": "stderr",
          "text": [
            "      Active artifact files: 7 found\n",
            "      Active scratchspaces: 3 found\n",
            "     Deleted no artifacts, repos, packages or scratchspaces\n"
          ]
        },
        {
          "output_type": "execute_result",
          "data": {
            "text/plain": [
              "v\"1.10.3\""
            ]
          },
          "metadata": {},
          "execution_count": 2
        }
      ]
    },
    {
      "cell_type": "code",
      "source": [
        "versioninfo()"
      ],
      "metadata": {
        "id": "S_E-4XvpXPnf",
        "outputId": "d84a4923-d9b7-4ef5-e2fd-b3e45db2500e",
        "colab": {
          "base_uri": "https://localhost:8080/"
        }
      },
      "execution_count": null,
      "outputs": [
        {
          "output_type": "stream",
          "name": "stdout",
          "text": [
            "Julia Version 1.10.3\n",
            "Commit 0b4590a5507 (2024-04-30 10:59 UTC)\n",
            "Build Info:\n",
            "  Official https://julialang.org/ release\n",
            "Platform Info:\n",
            "  OS: Linux (x86_64-linux-gnu)\n",
            "  CPU: 2 × Intel(R) Xeon(R) CPU @ 2.00GHz\n",
            "  WORD_SIZE: 64\n",
            "  LIBM: libopenlibm\n",
            "  LLVM: libLLVM-15.0.7 (ORCJIT, skylake-avx512)\n",
            "Threads: 2 default, 0 interactive, 1 GC (on 2 virtual cores)\n",
            "Environment:\n",
            "  LD_LIBRARY_PATH = /usr/lib64-nvidia\n",
            "  JULIA_NUM_THREADS = 2\n"
          ]
        }
      ]
    },
    {
      "cell_type": "code",
      "source": [
        "Pkg.add(\"Pandas\")"
      ],
      "metadata": {
        "colab": {
          "base_uri": "https://localhost:8080/"
        },
        "id": "zHnDaaV6ctBL",
        "outputId": "98ee2c68-bb6e-467d-c073-ce526f9498b7"
      },
      "execution_count": null,
      "outputs": [
        {
          "output_type": "stream",
          "name": "stderr",
          "text": [
            "\u001b[32m\u001b[1m   Resolving\u001b[22m\u001b[39m package versions...\n",
            "\u001b[32m\u001b[1m   Installed\u001b[22m\u001b[39m TableTraitsUtils ─ v1.0.2\n",
            "\u001b[32m\u001b[1m   Installed\u001b[22m\u001b[39m DataValues ─────── v0.4.13\n",
            "\u001b[32m\u001b[1m   Installed\u001b[22m\u001b[39m Lazy ───────────── v0.15.1\n",
            "\u001b[32m\u001b[1m   Installed\u001b[22m\u001b[39m Pandas ─────────── v1.6.1\n",
            "\u001b[32m\u001b[1m   Installed\u001b[22m\u001b[39m PyCall ─────────── v1.96.4\n",
            "\u001b[32m\u001b[1m    Updating\u001b[22m\u001b[39m `~/.julia/environments/v1.10/Project.toml`\n",
            "  \u001b[90m[eadc2687] \u001b[39m\u001b[92m+ Pandas v1.6.1\u001b[39m\n",
            "\u001b[32m\u001b[1m    Updating\u001b[22m\u001b[39m `~/.julia/environments/v1.10/Manifest.toml`\n",
            "  \u001b[90m[e7dc6d0d] \u001b[39m\u001b[92m+ DataValues v0.4.13\u001b[39m\n",
            "  \u001b[90m[50d2b5c4] \u001b[39m\u001b[92m+ Lazy v0.15.1\u001b[39m\n",
            "  \u001b[90m[eadc2687] \u001b[39m\u001b[92m+ Pandas v1.6.1\u001b[39m\n",
            "  \u001b[90m[438e738f] \u001b[39m\u001b[92m+ PyCall v1.96.4\u001b[39m\n",
            "  \u001b[90m[382cd787] \u001b[39m\u001b[92m+ TableTraitsUtils v1.0.2\u001b[39m\n",
            "\u001b[32m\u001b[1m    Building\u001b[22m\u001b[39m PyCall → `~/.julia/scratchspaces/44cfe95a-1eb2-52ea-b672-e2afdf69b78f/9816a3826b0ebf49ab4926e2b18842ad8b5c8f04/build.log`\n",
            "\u001b[32m\u001b[1mPrecompiling\u001b[22m\u001b[39m project...\n",
            "\u001b[32m  ✓ \u001b[39m\u001b[90mDataValues\u001b[39m\n",
            "\u001b[32m  ✓ \u001b[39m\u001b[90mLazy\u001b[39m\n",
            "\u001b[32m  ✓ \u001b[39m\u001b[90mTableTraitsUtils\u001b[39m\n",
            "\u001b[32m  ✓ \u001b[39m\u001b[90mPyCall\u001b[39m\n",
            "\u001b[32m  ✓ \u001b[39mPandas\n",
            "  5 dependencies successfully precompiled in 24 seconds. 82 already precompiled.\n"
          ]
        }
      ]
    },
    {
      "cell_type": "code",
      "source": [
        "using Pandas\n",
        "df = DataFrame(Dict(:age=>[27, 29, 27], :name=>[\"James\", \"Jill\", \"Jake\"]))\n",
        "df"
      ],
      "metadata": {
        "colab": {
          "base_uri": "https://localhost:8080/",
          "height": 143
        },
        "id": "eVP7tf5ldnZg",
        "outputId": "ab20211d-ce65-4fcb-d38f-2978b606032d"
      },
      "execution_count": null,
      "outputs": [
        {
          "output_type": "execute_result",
          "data": {
            "text/plain": [
              "   age   name\n",
              "0   27  James\n",
              "1   29   Jill\n",
              "2   27   Jake\n"
            ],
            "text/html": [
              "<table border=\"1\" class=\"dataframe\">\n",
              "  <thead>\n",
              "    <tr style=\"text-align: right;\">\n",
              "      <th></th>\n",
              "      <th>age</th>\n",
              "      <th>name</th>\n",
              "    </tr>\n",
              "  </thead>\n",
              "  <tbody>\n",
              "    <tr>\n",
              "      <th>0</th>\n",
              "      <td>27</td>\n",
              "      <td>James</td>\n",
              "    </tr>\n",
              "    <tr>\n",
              "      <th>1</th>\n",
              "      <td>29</td>\n",
              "      <td>Jill</td>\n",
              "    </tr>\n",
              "    <tr>\n",
              "      <th>2</th>\n",
              "      <td>27</td>\n",
              "      <td>Jake</td>\n",
              "    </tr>\n",
              "  </tbody>\n",
              "</table>\n"
            ]
          },
          "metadata": {},
          "execution_count": 7
        }
      ]
    },
    {
      "cell_type": "code",
      "source": [
        "!apt install -y golang\n",
        "!go mod init scraper\n",
        "!touch main.go"
      ],
      "metadata": {
        "id": "nICEmoUV6Kiw",
        "colab": {
          "base_uri": "https://localhost:8080/"
        },
        "outputId": "148b8393-cf69-4d7e-8ab3-d21cf6561542"
      },
      "execution_count": null,
      "outputs": [
        {
          "output_type": "stream",
          "name": "stdout",
          "text": [
            "Reading package lists... Done\n",
            "Building dependency tree... Done\n",
            "Reading state information... Done\n",
            "The following additional packages will be installed:\n",
            "  golang-1.18 golang-1.18-doc golang-1.18-go golang-1.18-src golang-doc golang-go golang-src\n",
            "Suggested packages:\n",
            "  bzr | brz mercurial subversion\n",
            "The following NEW packages will be installed:\n",
            "  golang golang-1.18 golang-1.18-doc golang-1.18-go golang-1.18-src golang-doc golang-go golang-src\n",
            "0 upgraded, 8 newly installed, 0 to remove and 45 not upgraded.\n",
            "Need to get 82.5 MB of archives.\n",
            "After this operation, 437 MB of additional disk space will be used.\n",
            "Get:1 http://archive.ubuntu.com/ubuntu jammy-updates/main amd64 golang-1.18-doc all 1.18.1-1ubuntu1.1 [103 kB]\n",
            "Get:2 http://archive.ubuntu.com/ubuntu jammy-updates/main amd64 golang-1.18-src all 1.18.1-1ubuntu1.1 [16.2 MB]\n",
            "Get:3 http://archive.ubuntu.com/ubuntu jammy-updates/main amd64 golang-1.18-go amd64 1.18.1-1ubuntu1.1 [66.0 MB]\n",
            "Get:4 http://archive.ubuntu.com/ubuntu jammy-updates/main amd64 golang-1.18 all 1.18.1-1ubuntu1.1 [11.2 kB]\n",
            "Get:5 http://archive.ubuntu.com/ubuntu jammy/main amd64 golang-src all 2:1.18~0ubuntu2 [4,438 B]\n",
            "Get:6 http://archive.ubuntu.com/ubuntu jammy/main amd64 golang-go amd64 2:1.18~0ubuntu2 [41.8 kB]\n",
            "Get:7 http://archive.ubuntu.com/ubuntu jammy/main amd64 golang-doc all 2:1.18~0ubuntu2 [2,784 B]\n",
            "Get:8 http://archive.ubuntu.com/ubuntu jammy/main amd64 golang amd64 2:1.18~0ubuntu2 [2,732 B]\n",
            "Fetched 82.5 MB in 3s (27.8 MB/s)\n",
            "Selecting previously unselected package golang-1.18-doc.\n",
            "(Reading database ... 121920 files and directories currently installed.)\n",
            "Preparing to unpack .../0-golang-1.18-doc_1.18.1-1ubuntu1.1_all.deb ...\n",
            "Unpacking golang-1.18-doc (1.18.1-1ubuntu1.1) ...\n",
            "Selecting previously unselected package golang-1.18-src.\n",
            "Preparing to unpack .../1-golang-1.18-src_1.18.1-1ubuntu1.1_all.deb ...\n",
            "Unpacking golang-1.18-src (1.18.1-1ubuntu1.1) ...\n",
            "Selecting previously unselected package golang-1.18-go.\n",
            "Preparing to unpack .../2-golang-1.18-go_1.18.1-1ubuntu1.1_amd64.deb ...\n",
            "Unpacking golang-1.18-go (1.18.1-1ubuntu1.1) ...\n",
            "Selecting previously unselected package golang-1.18.\n",
            "Preparing to unpack .../3-golang-1.18_1.18.1-1ubuntu1.1_all.deb ...\n",
            "Unpacking golang-1.18 (1.18.1-1ubuntu1.1) ...\n",
            "Selecting previously unselected package golang-src.\n",
            "Preparing to unpack .../4-golang-src_2%3a1.18~0ubuntu2_all.deb ...\n",
            "Unpacking golang-src (2:1.18~0ubuntu2) ...\n",
            "Selecting previously unselected package golang-go:amd64.\n",
            "Preparing to unpack .../5-golang-go_2%3a1.18~0ubuntu2_amd64.deb ...\n",
            "Unpacking golang-go:amd64 (2:1.18~0ubuntu2) ...\n",
            "Selecting previously unselected package golang-doc.\n",
            "Preparing to unpack .../6-golang-doc_2%3a1.18~0ubuntu2_all.deb ...\n",
            "Unpacking golang-doc (2:1.18~0ubuntu2) ...\n",
            "Selecting previously unselected package golang:amd64.\n",
            "Preparing to unpack .../7-golang_2%3a1.18~0ubuntu2_amd64.deb ...\n",
            "Unpacking golang:amd64 (2:1.18~0ubuntu2) ...\n",
            "Setting up golang-1.18-doc (1.18.1-1ubuntu1.1) ...\n",
            "Setting up golang-1.18-src (1.18.1-1ubuntu1.1) ...\n",
            "Setting up golang-src (2:1.18~0ubuntu2) ...\n",
            "Setting up golang-1.18-go (1.18.1-1ubuntu1.1) ...\n",
            "Setting up golang-1.18 (1.18.1-1ubuntu1.1) ...\n",
            "Setting up golang-go:amd64 (2:1.18~0ubuntu2) ...\n",
            "Setting up golang-doc (2:1.18~0ubuntu2) ...\n",
            "Setting up golang:amd64 (2:1.18~0ubuntu2) ...\n",
            "Processing triggers for man-db (2.10.2-1) ...\n",
            "go: creating new go.mod: module scraper\n",
            "go: to add module requirements and sums:\n",
            "\tgo mod tidy\n"
          ]
        }
      ]
    },
    {
      "cell_type": "code",
      "source": [
        "!go run main.go"
      ],
      "metadata": {
        "id": "8MJR88sx8_PD"
      },
      "execution_count": null,
      "outputs": []
    }
  ]
}