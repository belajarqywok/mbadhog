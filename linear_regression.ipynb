{
  "cells": [
    {
      "cell_type": "markdown",
      "metadata": {
        "id": "HjVBEa830Lpd"
      },
      "source": [
        "<h1>Tugas Data Mining 5</h1>\n",
        "<br />\n",
        "<ul>\n",
        "    <li><b>Nama  : Al-Fariqy Raihan Azhwar</b></li>\n",
        "    <li><b>NPM   : 202143501514</b></li>\n",
        "    <li><b>Kelas : R6Q</b></li>\n",
        "</ul>\n",
        "<br /><br />\n",
        "<h3>Tugas :</h3>\n",
        "<ol>\n",
        "  <li>Buatlah model regresi linier untuk memprediksi penjualan produk berdasarkan anggaran iklan.</li>\n",
        "  <li>Hitunglah koefisien regresi dan interpretasikan hasilnya.</li>\n",
        "  <li>Prediksikan penjualan produk jika anggaran iklan adalah Rp 300.000</li>\n",
        "</ol>\n",
        "<br />\n",
        "<h3>Soal :</h3>\n",
        "<ul>\n",
        "  <li>\n",
        "    Sebuah perusahaan ingin memprediksi penjualan produknya berdasarkan anggaran iklan. Perusahaan tersebut memiliki data penjualan dan anggaran iklan selama 10 bulan terakhir. Data tersebut adalah sebagai berikut :\n",
        "  </li>\n",
        "</ul>\n",
        "<br />"
      ]
    },
    {
      "cell_type": "code",
      "execution_count": null,
      "metadata": {
        "colab": {
          "base_uri": "https://localhost:8080/",
          "height": 277
        },
        "id": "J27XhAOn0eGz",
        "outputId": "058ad865-708f-43da-e4dd-ad001d8c85a1"
      },
      "outputs": [
        {
          "output_type": "stream",
          "name": "stdout",
          "text": [
            "[ Data Penjualan dan Anggaran selama 10 bulan terakhir ] "
          ]
        },
        {
          "output_type": "display_data",
          "data": {
            "text/plain": [
              "\n",
              "\n",
              "| bulan| penjualan_unit| anggaran_iklan|\n",
              "|-----:|--------------:|--------------:|\n",
              "|     1|            100|         100000|\n",
              "|     2|            120|         120000|\n",
              "|     3|            140|         140000|\n",
              "|     4|            160|         160000|\n",
              "|     5|            180|         180000|\n",
              "|     6|            200|         200000|\n",
              "|     7|            220|         220000|\n",
              "|     8|            240|         240000|\n",
              "|     9|            260|         260000|\n",
              "|    10|            280|         280000|"
            ]
          },
          "metadata": {}
        }
      ],
      "source": [
        "library(knitr)\n",
        "\n",
        "df_product <- data.frame(\n",
        "  bulan = 1:10,\n",
        "  penjualan_unit = seq(100, 280, by = 20),\n",
        "  anggaran_iklan = seq(100000, 280000, by = 20000)\n",
        ")\n",
        "\n",
        "cat(\"[ Data Penjualan dan Anggaran selama 10 bulan terakhir ] \")\n",
        "kable(df_product)"
      ]
    },
    {
      "cell_type": "markdown",
      "metadata": {
        "id": "b9xD2Qn5-aUl"
      },
      "source": [
        "<h3>1. Business Understanding</h3>\n",
        "<br />\n",
        "<h4>Problems :</h4>\n",
        "<ul>\n",
        "  <li>\n",
        "    Sebuah perusahaan yang bergerak pada bidang digital marketing (anggap saja)ingin memprediksi penjualan produknya berdasarkan anggaran iklan.\n",
        "  </li>\n",
        "  <li>\n",
        "    Perusahaan tersebut memiliki data penjualan dan anggaran iklan selama 10 bulan terakhir.\n",
        "  </li>\n",
        "  <li>\n",
        "    Perusahaan membutuhkan hasil prediksi penjualan unit produk berdasarkan anggaran iklan yang dikeluarkan, agar perusahaan bisa mengambil strategi dalam mengiklankan produk.\n",
        "  </li>\n",
        "</ul>\n",
        "<h4>Objective :</h4>\n",
        "<ul>\n",
        "  <li>\n",
        "    Prediksi penjualan produk jika anggaran iklan.\n",
        "  </li>\n",
        "</ul>\n",
        "<br />"
      ]
    },
    {
      "cell_type": "markdown",
      "metadata": {
        "id": "hLgcgIUVDKF9"
      },
      "source": [
        "<h3>2. Data Understanding</h3>\n",
        "<ul>\n",
        "  <li>\n",
        "    <b>Bulan (key: <i>bulan</i>)</b> : Daftar Bulan secara incremental\n",
        "  </li>\n",
        "  <li>\n",
        "    <b>Penjualan Unit (key: <i>penjualan_unit</i>)</b> : Daftar penjualan unit yang dihasilkan dalam jangka waktu 1 bulan.\n",
        "  </li>\n",
        "  <li>\n",
        "    <b>Angaran Iklan (key: <i>anggaran_iklan</i>)</b> : Daftar anggaran iklan yang dikeluarkan dalam jangka waktu 1 bulan.\n",
        "  </li>\n",
        "</ul>\n",
        "<br />"
      ]
    },
    {
      "cell_type": "markdown",
      "metadata": {
        "id": "0KLDwd93MiYq"
      },
      "source": [
        "<h3>3. Data Preparation</h3>"
      ]
    },
    {
      "cell_type": "code",
      "execution_count": null,
      "metadata": {
        "colab": {
          "base_uri": "https://localhost:8080/",
          "height": 138
        },
        "id": "616EZdS49dhv",
        "outputId": "5f44ecd8-cdf0-4672-c546-d69dbbc8386e"
      },
      "outputs": [
        {
          "output_type": "display_data",
          "data": {
            "text/plain": [
              "     bulan       penjualan_unit anggaran_iklan  \n",
              " Min.   : 1.00   Min.   :100    Min.   :100000  \n",
              " 1st Qu.: 3.25   1st Qu.:145    1st Qu.:145000  \n",
              " Median : 5.50   Median :190    Median :190000  \n",
              " Mean   : 5.50   Mean   :190    Mean   :190000  \n",
              " 3rd Qu.: 7.75   3rd Qu.:235    3rd Qu.:235000  \n",
              " Max.   :10.00   Max.   :280    Max.   :280000  "
            ]
          },
          "metadata": {}
        }
      ],
      "source": [
        "summary(df_product)"
      ]
    },
    {
      "cell_type": "code",
      "execution_count": null,
      "metadata": {
        "colab": {
          "base_uri": "https://localhost:8080/",
          "height": 437
        },
        "id": "2UMAWBBdM2U4",
        "outputId": "4897af17-41ba-4caf-8303-98bd94e1a48c"
      },
      "outputs": [
        {
          "output_type": "display_data",
          "data": {
            "text/plain": [
              "Plot with title “distribusi data penjualan unit”"
            ],
            "image/png": "[encoded data removed]"
          },
          "metadata": {
            "image/png": {
              "width": 420,
              "height": 420
            }
          }
        }
      ],
      "source": [
        "plot(\n",
        "  density(df_product$penjualan_unit),\n",
        "  main = \"distribusi data penjualan unit\",\n",
        "  xlab = \"Penjualan Unit\",\n",
        "  ylab = \"density\",\n",
        "  col  = \"blue\"\n",
        ")"
      ]
    },
    {
      "cell_type": "code",
      "execution_count": null,
      "metadata": {
        "colab": {
          "base_uri": "https://localhost:8080/",
          "height": 437
        },
        "id": "vQJXUg1OPFDE",
        "outputId": "a48f4368-d181-4bb3-ca86-44ad44f36e04"
      },
      "outputs": [
        {
          "output_type": "display_data",
          "data": {
            "text/plain": [
              "Plot with title “distribusi data anggaran iklan”"
            ],
            "image/png": "[encoded data removed]"
          },
          "metadata": {
            "image/png": {
              "width": 420,
              "height": 420
            }
          }
        }
      ],
      "source": [
        "plot(\n",
        "  density(df_product$anggaran_iklan),\n",
        "  main = \"distribusi data anggaran iklan\",\n",
        "  xlab = \"Anggaran Iklan\",\n",
        "  ylab = \"density\",\n",
        "  col  = \"blue\"\n",
        ")"
      ]
    },
    {
      "cell_type": "code",
      "execution_count": null,
      "metadata": {
        "colab": {
          "base_uri": "https://localhost:8080/",
          "height": 260
        },
        "id": "Y6Y_tCnTSf1P",
        "outputId": "82063922-a5e9-4352-914f-128fd477dacb"
      },
      "outputs": [
        {
          "output_type": "stream",
          "name": "stdout",
          "text": [
            "[ Cleaning data dengan metode quantile (0.99) ]"
          ]
        },
        {
          "output_type": "display_data",
          "data": {
            "text/plain": [
              "\n",
              "\n",
              "| bulan| penjualan_unit| anggaran_iklan|\n",
              "|-----:|--------------:|--------------:|\n",
              "|     1|            100|         100000|\n",
              "|     2|            120|         120000|\n",
              "|     3|            140|         140000|\n",
              "|     4|            160|         160000|\n",
              "|     5|            180|         180000|\n",
              "|     6|            200|         200000|\n",
              "|     7|            220|         220000|\n",
              "|     8|            240|         240000|\n",
              "|     9|            260|         260000|"
            ]
          },
          "metadata": {}
        }
      ],
      "source": [
        "upper_penjualan <- quantile(df_product$penjualan_unit, 0.99)\n",
        "upper_anggaran  <- quantile(df_product$anggaran_iklan, 0.99)\n",
        "\n",
        "cleaned_penjualan_unit <- df_product$penjualan_unit[df_product$penjualan_unit <= upper_penjualan]\n",
        "cleaned_anggaran_iklan <- df_product$anggaran_iklan[df_product$anggaran_iklan <= upper_anggaran]\n",
        "\n",
        "cleaned_data <- data.frame(\n",
        "  bulan = df_product$bulan[1:length(cleaned_penjualan_unit)],\n",
        "  penjualan_unit = cleaned_penjualan_unit,\n",
        "  anggaran_iklan = cleaned_anggaran_iklan\n",
        ")\n",
        "\n",
        "cat('[ Cleaning data dengan metode quantile (0.99) ]')\n",
        "kable(cleaned_data)"
      ]
    },
    {
      "cell_type": "markdown",
      "source": [
        "<h3>4. Modeling</h3>"
      ],
      "metadata": {
        "id": "zs2n3plGn3i4"
      }
    },
    {
      "cell_type": "markdown",
      "source": [
        "<h4>Menghitung Koefisien Regresi ( $b$ )</h4>\n",
        "<p>Formula :</p>\n",
        "<h1>$b = \\frac{n(\\Sigma \\space xy) \\space - \\space \\Sigma(x) \\space \\Sigma(y)}{n(\\Sigma \\space x^2) \\space - \\space \\Sigma(x)^2 }$</h1>\n",
        "<br />"
      ],
      "metadata": {
        "id": "wT4zW4fvoSj4"
      }
    },
    {
      "cell_type": "code",
      "execution_count": null,
      "metadata": {
        "colab": {
          "base_uri": "https://localhost:8080/"
        },
        "id": "1Yb5qxzIUTLK",
        "outputId": "2da4d6d4-8dec-4e1b-cf6e-e29b95cea314"
      },
      "outputs": [
        {
          "output_type": "stream",
          "name": "stdout",
          "text": [
            "Sigma(X)   : 1620 \n",
            "Sigma(Y)   : 1620000 \n",
            "Sigma(XY)  : 315600000 \n",
            "Sigma(X^2) : 315600 \n",
            "Sigma(Y^2) : 3.156e+11 \n",
            "Sigma(X)^2 : 2624400 \n"
          ]
        }
      ],
      "source": [
        "sigma_x   <- 0\n",
        "sigma_y   <- 0\n",
        "sigma_xy  <- 0\n",
        "sigma_x2  <- 0\n",
        "sigma_y2  <- 0\n",
        "\n",
        "for (bulan in seq_along(cleaned_data$bulan)) {\n",
        "  # Sigma(X)\n",
        "  sigma_x <- sigma_x + (cleaned_data$penjualan_unit[bulan])\n",
        "\n",
        "  # Sigma(Y)\n",
        "  sigma_y <- sigma_y + (cleaned_data$anggaran_iklan[bulan])\n",
        "\n",
        "  # Sigma(X * Y)\n",
        "  sigma_xy <- sigma_xy + (\n",
        "    cleaned_data$penjualan_unit[bulan] * cleaned_data$anggaran_iklan[bulan]\n",
        "  )\n",
        "\n",
        "  # Sigma(X^2)\n",
        "  sigma_x2 <- sigma_x2 + (\n",
        "    cleaned_data$penjualan_unit[bulan] ^ 2\n",
        "  )\n",
        "\n",
        "  # Sigma(Y^2)\n",
        "  sigma_y2 <- sigma_y2 + (\n",
        "    cleaned_data$anggaran_iklan[bulan] ^ 2\n",
        "  )\n",
        "}\n",
        "\n",
        "cat(sprintf('Sigma(X)   : %s \\n', sigma_x))\n",
        "cat(sprintf('Sigma(Y)   : %s \\n', sigma_y))\n",
        "cat(sprintf('Sigma(XY)  : %s \\n', sigma_xy))\n",
        "cat(sprintf('Sigma(X^2) : %s \\n', sigma_x2))\n",
        "cat(sprintf('Sigma(Y^2) : %s \\n', sigma_y2))\n",
        "\n",
        "sigma_x_2 <- sigma_x ^ 2\n",
        "cat(sprintf('Sigma(X)^2 : %s \\n', sigma_x_2))"
      ]
    },
    {
      "cell_type": "code",
      "source": [
        "n <- length(cleaned_data$bulan)\n",
        "cat(sprintf('n : %s \\n', n))\n",
        "\n",
        "b <- ((n * sigma_xy) - (sigma_x * sigma_y)) / ((n * sigma_x2) - (sigma_x^2))\n",
        "cat(b)"
      ],
      "metadata": {
        "colab": {
          "base_uri": "https://localhost:8080/"
        },
        "id": "4ZqzsoOyDTZ8",
        "outputId": "b89d46fa-b941-44d9-fb27-d9b8f2a15edb"
      },
      "execution_count": null,
      "outputs": [
        {
          "output_type": "stream",
          "name": "stdout",
          "text": [
            "n : 9 \n",
            "1000"
          ]
        }
      ]
    },
    {
      "cell_type": "markdown",
      "source": [
        "<h4>Menghitung Konstanta ( $a$ )</h4>\n",
        "<p>Formula :</p>\n",
        "<h1>$a = \\frac{(\\Sigma{y}) \\space ({\\Sigma{x^2}}) \\space - \\space (\\Sigma{x}) \\space (\\Sigma{xy})}{n(\\Sigma \\space x^2) \\space - \\space \\Sigma(x)^2 }$</h1>\n",
        "<br />"
      ],
      "metadata": {
        "id": "0jR1MoU7PP2K"
      }
    },
    {
      "cell_type": "code",
      "source": [
        "a <- ((sigma_y * sigma_x2) - (sigma_x * sigma_xy)) / ((n * sigma_x2) - (sigma_x^2))\n",
        "\n",
        "cat(a)"
      ],
      "metadata": {
        "colab": {
          "base_uri": "https://localhost:8080/"
        },
        "id": "0Mdovy0ZS6cu",
        "outputId": "bae458d7-efa2-41e7-e1d7-f90c896f3d4b"
      },
      "execution_count": null,
      "outputs": [
        {
          "output_type": "stream",
          "name": "stdout",
          "text": [
            "0"
          ]
        }
      ]
    },
    {
      "cell_type": "markdown",
      "source": [
        "<h4>Model Persamaan Regresi Linier</h4>\n",
        "<p>Formula :</p>\n",
        "<h1>$y = a \\space + \\space bx$</h1>\n",
        "<br />\n",
        "<h3>* Prediksikan penjualan produk jika anggaran iklan adalah Rp 300.000</h3>"
      ],
      "metadata": {
        "id": "FtNZSwGzT8u_"
      }
    },
    {
      "cell_type": "code",
      "source": [
        "anggaran_iklan <- 300000\n",
        "predict        <- (anggaran_iklan + a) / b\n",
        "\n",
        "cat(\n",
        "  sprintf(\n",
        "    '[ OUTPUT ] :\\nPenjualan produk diprediksi mencapai total %s unit, \\njika anggaran iklan yang dikeluarkan %s',\n",
        "\n",
        "    predict,\n",
        "    as.integer(anggaran_iklan)\n",
        "  )\n",
        ")"
      ],
      "metadata": {
        "colab": {
          "base_uri": "https://localhost:8080/"
        },
        "id": "BnyMqD5gT7z6",
        "outputId": "4b730a55-a938-40b5-faee-a0261adaf5c6"
      },
      "execution_count": null,
      "outputs": [
        {
          "output_type": "stream",
          "name": "stdout",
          "text": [
            "[ OUTPUT ] :\n",
            "Penjualan produk diprediksi mencapai total 300 unit, \n",
            "jika anggaran iklan yang dikeluarkan 300000"
          ]
        }
      ]
    },
    {
      "cell_type": "markdown",
      "source": [
        "<br />\n",
        "<h3>* Prediksikan anggaran iklan jika produk -nya berhasil terjual 1235 unit</h3>"
      ],
      "metadata": {
        "id": "zmD950OxrEFc"
      }
    },
    {
      "cell_type": "code",
      "source": [
        "terjual  <- 1235\n",
        "predict  <- a + (b * terjual)\n",
        "\n",
        "cat(\n",
        "  sprintf(\n",
        "    '[ OUTPUT ] :\\nAnggaran iklan diprediksi mencapai total %s, \\njika produk yang berhasil terjual adalah %s unit',\n",
        "\n",
        "    predict,\n",
        "    as.integer(terjual)\n",
        "  )\n",
        ")"
      ],
      "metadata": {
        "colab": {
          "base_uri": "https://localhost:8080/"
        },
        "id": "9g3dsXKprCly",
        "outputId": "caaa1f40-b0cf-4fe3-a0e9-3275f821a60f"
      },
      "execution_count": null,
      "outputs": [
        {
          "output_type": "stream",
          "name": "stdout",
          "text": [
            "[ OUTPUT ] :\n",
            "Anggaran iklan diprediksi mencapai total 1235000, \n",
            "jika produk yang berhasil terjual adalah 1235 unit"
          ]
        }
      ]
    },
    {
      "cell_type": "markdown",
      "source": [
        "<br />\n",
        "<h3>Menghitung korelasi ( $r$ ) dan R-Squared Score ( $r^2$ )</h3>\n",
        "<p>Formula :</p>\n",
        "<h1>$r = \\frac{n(\\Sigma \\space xy) \\space - \\space \\Sigma(x) \\space \\Sigma(y)}{\\sqrt{(n(\\Sigma{x^2}) - (\\Sigma{x})^2) \\space (n(\\Sigma{y^2}) - (\\Sigma{y})^2)}}$</h1>\n",
        "\n",
        "<h1>$r^2 = (r)^2$</h1>\n",
        "<br />"
      ],
      "metadata": {
        "id": "I4CQMM_qs5PI"
      }
    },
    {
      "cell_type": "code",
      "source": [
        "r <- ((n * sigma_xy) - (sigma_x * sigma_y)) / sqrt(\n",
        "  ((n * sigma_x2) - (sigma_x^2)) * ((n * sigma_y2) - (sigma_y^2))\n",
        ")\n",
        "\n",
        "cat(sprintf('R  = %s\\n', r))\n",
        "cat(sprintf('R2 = %s', r^2))"
      ],
      "metadata": {
        "colab": {
          "base_uri": "https://localhost:8080/"
        },
        "id": "kyaTnR7xfLp9",
        "outputId": "23b6a60f-9c22-4131-9a23-8d44995779f2"
      },
      "execution_count": null,
      "outputs": [
        {
          "output_type": "stream",
          "name": "stdout",
          "text": [
            "R  = 1\n",
            "R2 = 1"
          ]
        }
      ]
    },
    {
      "cell_type": "markdown",
      "source": [
        "<br />\n",
        "<h3>Kesimpulan:</h3>\n",
        "<h3>100% penjualan produk ditentukan oleh anggaran/budget dari ikan, begitupun sebalik -nya.</h3>"
      ],
      "metadata": {
        "id": "Iz95KIi-whKU"
      }
    }
  ],
  "metadata": {
    "colab": {
      "provenance": []
    },
    "kernelspec": {
      "display_name": "R",
      "name": "ir"
    },
    "language_info": {
      "name": "R"
    }
  },
  "nbformat": 4,
  "nbformat_minor": 0
}